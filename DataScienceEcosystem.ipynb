{
 "cells": [
  {
   "cell_type": "markdown",
   "id": "c3b828e0-5efd-442a-8bc6-992072128fea",
   "metadata": {},
   "source": [
    "# Data Science Tools and Ecosystem"
   ]
  },
  {
   "cell_type": "markdown",
   "id": "7e9f49e6-d10a-4a43-83df-5577af07bc81",
   "metadata": {},
   "source": [
    "## Introduction:\n",
    "\n",
    "In this notebook, Data Science Tools and Ecosystem are summarized."
   ]
  },
  {
   "cell_type": "markdown",
   "id": "53fb7f7c-a2b7-4308-a5c3-d6b9601e9a06",
   "metadata": {},
   "source": [
    "**Objectives:**\n",
    "- SQL\n",
    "- Python\n",
    "- R"
   ]
  },
  {
   "cell_type": "markdown",
   "id": "803fa633-31f9-4264-b3b8-cf8ee313d40c",
   "metadata": {},
   "source": [
    "Some of the popular languages that Data Scientists use are:\n",
    "1. Python\n",
    "2. SQL\n",
    "3. R"
   ]
  },
  {
   "cell_type": "markdown",
   "id": "7c030c15-8944-4da7-93ac-77558b63b813",
   "metadata": {},
   "source": [
    "Some of the commonly used libraries used by Data Scientists include:\n",
    "1. NumPy\n",
    "2. Keras\n",
    "3. ScikitLearn"
   ]
  },
  {
   "cell_type": "markdown",
   "id": "43e9e6de-6fdf-4976-ab0e-736228c9e0b5",
   "metadata": {},
   "source": [
    "| Data Science Tools |\n",
    "------------------------\n",
    "|  Jupyter           |\n",
    "|  RStudio           |\n",
    "|  GitHub            |"
   ]
  },
  {
   "cell_type": "markdown",
   "id": "db39dacb-080e-4cf4-93e0-65301cd78598",
   "metadata": {},
   "source": [
    "### Below are a few examples of evaluating arithmetic expressions in Python"
   ]
  },
  {
   "cell_type": "code",
   "execution_count": 3,
   "id": "f31367e2-9063-43fc-9ed9-e156fb802ca7",
   "metadata": {},
   "outputs": [
    {
     "data": {
      "text/plain": [
       "17"
      ]
     },
     "execution_count": 3,
     "metadata": {},
     "output_type": "execute_result"
    }
   ],
   "source": [
    "# This a simple arithmetic expression to mutiply then add integers\n",
    "(3*4)+5"
   ]
  },
  {
   "cell_type": "code",
   "execution_count": 5,
   "id": "1491ca2f-e1fe-44bc-8161-a079a4fe169a",
   "metadata": {},
   "outputs": [
    {
     "data": {
      "text/plain": [
       "3.3333333333333335"
      ]
     },
     "execution_count": 5,
     "metadata": {},
     "output_type": "execute_result"
    }
   ],
   "source": [
    "# This will convert 200 minutes to hours by diving by 60\n",
    "def convert_minutes_to_hours(minutes):\n",
    "    return (minutes/60)\n",
    "convert_minutes_to_hours(200)"
   ]
  },
  {
   "cell_type": "markdown",
   "id": "008375b5-5f06-470f-9dc4-fe2028fce82d",
   "metadata": {},
   "source": [
    "## Author\n",
    "Deekshita Kadaboina"
   ]
  },
  {
   "cell_type": "code",
   "execution_count": null,
   "id": "e4213104-44f5-4303-b246-0bdd0abdcc9e",
   "metadata": {},
   "outputs": [],
   "source": []
  }
 ],
 "metadata": {
  "kernelspec": {
   "display_name": "Python 3 (ipykernel)",
   "language": "python",
   "name": "python3"
  },
  "language_info": {
   "codemirror_mode": {
    "name": "ipython",
    "version": 3
   },
   "file_extension": ".py",
   "mimetype": "text/x-python",
   "name": "python",
   "nbconvert_exporter": "python",
   "pygments_lexer": "ipython3",
   "version": "3.12.0"
  }
 },
 "nbformat": 4,
 "nbformat_minor": 5
}
